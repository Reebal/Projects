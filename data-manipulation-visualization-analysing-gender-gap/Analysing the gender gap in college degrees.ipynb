{
 "cells": [
  {
   "cell_type": "markdown",
   "id": "394efe75",
   "metadata": {},
   "source": [
    "### Analyzing the Gender Gap in Undergraduate Degrees\n",
    "\n",
    "I have incorporated concepts like interactive plots using Plotly Dash and multithreading with Flask.\n",
    "\n",
    "1. I visualized the comparison between degrees earned by women and men (100 - number of degrees earned by women) in line charts. These line charts can be viewed by choosing the appropriate category and degree from radio items.\n",
    "2. The average of degrees earned by women and men is ranked in descending order in an interactive bar graph with sliders. You can slide right and left to see as many ranks as you want.\n",
    "\n",
    "### About the Dataset:\n",
    "\n",
    "The US Department of Education released a dataset containing the percentage of bachelor's degrees granted to women from 1970 to 2012. The dataset I am using below was cleansed by Randal Olson, a data scientist at the University of Pennsylvania."
   ]
  },
  {
   "cell_type": "code",
   "execution_count": null,
   "id": "87bc2a1b",
   "metadata": {},
   "outputs": [],
   "source": [
    "# To build interactive dashboards using python\n",
    "pip install dash"
   ]
  },
  {
   "cell_type": "code",
   "execution_count": 7,
   "id": "dca4967a",
   "metadata": {},
   "outputs": [],
   "source": [
    "from threading import Thread\n",
    "from flask import Flask\n",
    "import pandas as pd\n",
    "import numpy as np\n",
    "import matplotlib.pyplot as plt\n",
    "from dash import Dash, dcc, html, Input, Output, callback\n",
    "import plotly.graph_objects as go\n",
    "%matplotlib inline"
   ]
  },
  {
   "cell_type": "code",
   "execution_count": 19,
   "id": "4e24ecbb",
   "metadata": {},
   "outputs": [],
   "source": [
    "filepath='women-bachelors.csv'\n",
    "df = pd.read_csv(filepath, header=0)\n",
    "df.head()"
   ]
  },
  {
   "cell_type": "code",
   "execution_count": 18,
   "id": "87255f0e",
   "metadata": {},
   "outputs": [],
   "source": [
    "# Replacing missing values with NaN\n",
    "df.replace(\"?\",np.nan,inplace = True)\n",
    "\n",
    "# Checks if there's null values and return true count, else false\n",
    "# There are no missing values here\n",
    "missing_data = df.isnull()\n",
    "for column in missing_data.columns.values.tolist():\n",
    "      print (missing_data[column].value_counts())\n",
    "    print(\"\")"
   ]
  },
  {
   "cell_type": "code",
   "execution_count": 23,
   "id": "0dfd16d9",
   "metadata": {},
   "outputs": [],
   "source": [
    "# Lists for degree categories\n",
    "Stem = [\n",
    "    'Agriculture', 'Architecture', 'Biology', 'Computer Science', 'Engineering',\n",
    "    'Health Professions', 'Math and Statistics', 'Physical Sciences'\n",
    "]\n",
    "\n",
    "Humanities_and_Arts = [\n",
    "    'Art and Performance', 'Communications and Journalism', 'English', 'Foreign Languages'\n",
    "]\n",
    "\n",
    "Social_Sciences_and_Professional_Studies = [\n",
    "    'Business', 'Education', 'Psychology', 'Public Administration', 'Social Sciences and History'\n",
    "]\n",
    "\n",
    "\n",
    "# Add columns for men's degrees 100 - no of degrees earned by women\n",
    "for col in stem + humanities_and_arts + social_sciences_and_professional_studies:\n",
    "    if col in df.columns:\n",
    "        df[col + '-men'] = 100 - df[col]"
   ]
  },
  {
   "cell_type": "code",
   "execution_count": 39,
   "id": "f770e4b3",
   "metadata": {},
   "outputs": [
    {
     "data": {
      "text/html": [
       "\n",
       "        <iframe\n",
       "            width=\"100%\"\n",
       "            height=\"650\"\n",
       "            src=\"http://127.0.0.1:8050/\"\n",
       "            frameborder=\"0\"\n",
       "            allowfullscreen\n",
       "            \n",
       "        ></iframe>\n",
       "        "
      ],
      "text/plain": [
       "<IPython.lib.display.IFrame at 0x13a74aa50>"
      ]
     },
     "metadata": {},
     "output_type": "display_data"
    }
   ],
   "source": [
    "# Interactive visualization of gender gap using flask, dash, plotly\n",
    "\n",
    "# Flask server for app1\n",
    "app1 = Dash(__name__, external_stylesheets=['https://codepen.io/chriddyp/pen/bWLwgP.css'])\n",
    "\n",
    "# Create a dictionary that includes all categories \n",
    "all_options = {\n",
    "    'Stem': Stem,\n",
    "    'Humanities_and_Arts': Humanities_and_Arts,\n",
    "    'Social_Sciences_and_Professional_Studies': Social_Sciences_and_Professional_Studies \n",
    "}\n",
    "\n",
    "# Set up the app layout with 2 radio items and 1 graph\n",
    "app1.layout = html.Div([\n",
    "    dcc.RadioItems(list(all_options.keys()), 'Stem', id='categories-radio'),\n",
    "    html.Hr(),\n",
    "    dcc.RadioItems(id='degrees-radio'),\n",
    "    html.Hr(),\n",
    "    dcc.Graph(id='display-selected-plots')\n",
    "])\n",
    "\n",
    "# Callbacks are chainable elements that are automatically called whenever a UI element changes\n",
    "\n",
    "# 1st callback gets selected category 'stem' as input, returns list of stem degrees as output\n",
    "\n",
    "@app1.callback(\n",
    "    Output('degrees-radio', 'options'),\n",
    "    Input('categories-radio', 'value')\n",
    ")\n",
    "def set_degrees_options(selected_category):\n",
    "    return [{'label': i, 'value': i} for i in all_options[selected_category]]\n",
    "\n",
    "# 2nd callback gets list of stem degrees as input, returns selected degree as output \n",
    "\n",
    "@app1.callback(\n",
    "    Output('degrees-radio', 'value'),\n",
    "    Input('degrees-radio', 'options')\n",
    ")\n",
    "def set_degrees_value(available_options):\n",
    "    return available_options[0]['value']\n",
    "\n",
    "# 3rd callback gets selected degree and returns the respective line graph\n",
    "\n",
    "@app1.callback(\n",
    "    Output('display-selected-plots', 'figure'),\n",
    "    Input('categories-radio', 'value'),\n",
    "    Input('degrees-radio', 'value')\n",
    ")\n",
    "def set_display_plots(selected_category, selected_degree):\n",
    "    return plot_degrees(df, selected_degree)\n",
    "\n",
    "def plot_degrees(df, degree):\n",
    "    fig = go.Figure()\n",
    "    if degree in df.columns:\n",
    "        fig.add_trace(go.Scatter(x=df['Year'], y=df[degree], mode='lines+markers', name=f'{degree} (Women)'))\n",
    "        fig.add_trace(go.Scatter(x=df['Year'], y=df[degree + '-men'], mode='lines+markers', name=f'{degree} (Men)', line=dict(dash='dash')))\n",
    "\n",
    "        fig.update_layout(\n",
    "            title=f'Degrees in {degree}',\n",
    "            xaxis_title='Year',\n",
    "            yaxis_title='Number of Degrees',\n",
    "            legend_title='Gender'\n",
    "        )\n",
    "    return fig\n",
    "\n",
    "# Running the app in Jupyter\n",
    "app1.run_server(mode='inline')\n"
   ]
  },
  {
   "cell_type": "code",
   "execution_count": 37,
   "id": "f3dede5a",
   "metadata": {},
   "outputs": [
    {
     "data": {
      "text/html": [
       "\n",
       "        <iframe\n",
       "            width=\"100%\"\n",
       "            height=\"650\"\n",
       "            src=\"http://127.0.0.1:8050/\"\n",
       "            frameborder=\"0\"\n",
       "            allowfullscreen\n",
       "            \n",
       "        ></iframe>\n",
       "        "
      ],
      "text/plain": [
       "<IPython.lib.display.IFrame at 0x13a90b210>"
      ]
     },
     "metadata": {},
     "output_type": "display_data"
    }
   ],
   "source": [
    "# Ranking the degree averages in descending order in interactive bar graphs and sliders\n",
    "\n",
    "# Calculate the average. iloc manipulates data in tabular format, : includes all rows, 1: skips first column 'year'\n",
    "means = df.iloc[:, 1:].mean(axis=0)\n",
    "sortedwomen = means.sort_values(ascending=False)\n",
    "\n",
    "# Separate women's averages ~ negates the -men\n",
    "women_averages = sortedwomen[~sortedwomen.index.str.contains('-men')]\n",
    "\n",
    "# Separate men's averages\n",
    "men_averages = sortedwomen[sortedwomen.index.str.contains('-men')]\n",
    "\n",
    "# Create 2nd app \n",
    "app2 = Dash(__name__)\n",
    "\n",
    "app2.layout = html.Div([\n",
    "    html.H4('Interactive plot'),\n",
    "    dcc.Graph(id=\"graph\"),\n",
    "    html.P(\"Number of bars:\"),\n",
    "    dcc.Slider(id=\"slider\", min=2, max=len(women_averages), value=4, step=1),\n",
    "])\n",
    "\n",
    "# Callback to get the slider as input, bargraph as output\n",
    "@app2.callback(\n",
    "    Output(\"graph\", \"figure\"), \n",
    "    Input(\"slider\", \"value\"))\n",
    "def update_bar_chart(size):\n",
    "    women_rounded = women_averages.round(2)\n",
    "    women_data = women_rounded.iloc[:size] \n",
    "    men_trimmed_name = [name.replace('-men', '') for name in men_averages.index] # Remove '-men' suffix from degree names\n",
    "    men_rounded = men_averages.round(2)\n",
    "    men_data = men_rounded.iloc[:size] \n",
    "\n",
    "    fig = go.Figure()\n",
    "    fig.add_trace(go.Bar(x=women_data.index,y=women_data,name='Women',marker=dict(color='#8FFFC2'),text=women_data, hovertemplate='Degree: %{x}<extra></extra>'))\n",
    "    fig.add_trace(go.Bar(x=men_trimmed_name,y=men_data,name='Men',marker=dict(color='#8FD6FF'),text=men_data, hovertemplate='Degree: %{x}<extra></extra>'))\n",
    "\n",
    "    fig.update_layout(\n",
    "        title=\"Interactive plot ranking average degrees earned by women and men\",\n",
    "        barmode='group'  # Group bars together\n",
    "    )\n",
    "\n",
    "    return fig\n",
    "\n",
    "# Running the app in Jupyter\n",
    "app2.run_server(mode='inline')\n"
   ]
  },
  {
   "cell_type": "markdown",
   "id": "93f986c8",
   "metadata": {},
   "source": [
    "### Conclusion: \n",
    "\n",
    "From the line charts, the analysis of a few degrees stood out to me. There seems to be an inverse relationship between genders in degrees like Biology, Communications and Journalism, and Psychology. While the number of degrees earned by men decreases, the number earned by women increases.\n",
    "\n",
    "On average, over the years, women-dominated degrees include health professions, education, and public administration, while men-dominated degrees are engineering, computer science, and physical sciences.\n",
    "\n",
    "There are some interesting observations to be made from these interactive graphs. Feel free to give them a try and leave any feedback. Enjoy!"
   ]
  }
 ],
 "metadata": {
  "kernelspec": {
   "display_name": "Python 3 (ipykernel)",
   "language": "python",
   "name": "python3"
  },
  "language_info": {
   "codemirror_mode": {
    "name": "ipython",
    "version": 3
   },
   "file_extension": ".py",
   "mimetype": "text/x-python",
   "name": "python",
   "nbconvert_exporter": "python",
   "pygments_lexer": "ipython3",
   "version": "3.11.7"
  }
 },
 "nbformat": 4,
 "nbformat_minor": 5
}
